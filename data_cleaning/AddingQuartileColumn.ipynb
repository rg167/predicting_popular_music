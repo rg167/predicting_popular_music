{
 "cells": [
  {
   "cell_type": "code",
   "execution_count": 57,
   "metadata": {
    "collapsed": true
   },
   "outputs": [],
   "source": [
    "import numpy as np\n",
    "import pandas as pd"
   ]
  },
  {
   "cell_type": "code",
   "execution_count": 58,
   "metadata": {},
   "outputs": [
    {
     "name": "stdout",
     "output_type": "stream",
     "text": [
      "Index,�_�Rank,Song,Artist,Year,Lyrics,ids,energy,liveness,tempo,speechiness,acousticness,instrumentalness,time_signature,danceability,key,duration_ms,loudness,valence\r\n",
      "\n"
     ]
    }
   ],
   "source": [
    "f = open(\"FINAL_cleaned_output.csv\")\n",
    "print f.readline()\n",
    "d = np.loadtxt(f, delimiter=\",\", usecols = (0, 1, 4, 7, 8, 9, 10, 11, 12, 13, 14, 15, 16, 17, 18))\n",
    "d1 = pd.DataFrame(data=d)\n",
    "d1.columns = [\"index\",\"rank\",\"year\",\"energy\",\"liveness\",\"tempo\",\"speechiness\",\"acousticness\",\"instrumentalness\",\"timesig\",\"danceability\",\"key\",\"duration\",\"loudness\",\"valence\"]"
   ]
  },
  {
   "cell_type": "code",
   "execution_count": 59,
   "metadata": {},
   "outputs": [],
   "source": [
    "quartiles = [] \n",
    "i = 0\n",
    "for x in np.nditer(d1[\"rank\"]):\n",
    "    if x <= 25:\n",
    "        quartiles.append(1)\n",
    "    elif x <= 50:\n",
    "        quartiles.append(2)\n",
    "    elif x <= 75:\n",
    "        quartiles.append(3)\n",
    "    else:\n",
    "        quartiles.append(4)"
   ]
  },
  {
   "cell_type": "code",
   "execution_count": 60,
   "metadata": {
    "collapsed": true
   },
   "outputs": [],
   "source": [
    "d1[\"quartile\"] = quartiles"
   ]
  },
  {
   "cell_type": "code",
   "execution_count": 61,
   "metadata": {
    "collapsed": true
   },
   "outputs": [],
   "source": [
    "d1.to_csv(\"FINAL_cleaned_output_with_quartiles.csv\")"
   ]
  },
  {
   "cell_type": "code",
   "execution_count": null,
   "metadata": {
    "collapsed": true
   },
   "outputs": [],
   "source": []
  }
 ],
 "metadata": {
  "kernelspec": {
   "display_name": "Python 2",
   "language": "python",
   "name": "python2"
  },
  "language_info": {
   "codemirror_mode": {
    "name": "ipython",
    "version": 2
   },
   "file_extension": ".py",
   "mimetype": "text/x-python",
   "name": "python",
   "nbconvert_exporter": "python",
   "pygments_lexer": "ipython2",
   "version": "2.7.13"
  }
 },
 "nbformat": 4,
 "nbformat_minor": 2
}
